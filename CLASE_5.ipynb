{
  "nbformat": 4,
  "nbformat_minor": 0,
  "metadata": {
    "colab": {
      "provenance": []
    },
    "kernelspec": {
      "name": "python3",
      "display_name": "Python 3"
    },
    "language_info": {
      "name": "python"
    }
  },
  "cells": [
    {
      "cell_type": "markdown",
      "source": [
        "\n",
        "\n",
        "```\n",
        "# Esto tiene formato de código\n",
        "```\n",
        "\n"
      ],
      "metadata": {
        "id": "WoTonATc5FkV"
      }
    },
    {
      "cell_type": "markdown",
      "source": [
        "#Clase 5\n",
        "## Dar forma a la salida de impresiones"
      ],
      "metadata": {
        "id": "v6bAq6o75INW"
      }
    },
    {
      "cell_type": "code",
      "source": [
        "AA = 13\n",
        "BB = 'Trece'\n",
        "print('los valores son' ,AA,BB)"
      ],
      "metadata": {
        "colab": {
          "base_uri": "https://localhost:8080/"
        },
        "id": "fb8J3esp5C_i",
        "outputId": "58442f42-5dd7-4bc5-e933-f1caaebb9b34"
      },
      "execution_count": null,
      "outputs": [
        {
          "output_type": "stream",
          "name": "stdout",
          "text": [
            "los valores son 13 Trece\n"
          ]
        }
      ]
    },
    {
      "cell_type": "code",
      "source": [
        "CC = 14\n",
        "DD = 'Pan'\n",
        "print(f\"los valores son: {CC}, {DD}\")"
      ],
      "metadata": {
        "colab": {
          "base_uri": "https://localhost:8080/"
        },
        "id": "MuCaAqHY6oei",
        "outputId": "a06ddedf-f6cd-4d58-a9e3-74014a1130b4"
      },
      "execution_count": null,
      "outputs": [
        {
          "output_type": "stream",
          "name": "stdout",
          "text": [
            "los valores son: 14, Pan\n"
          ]
        }
      ]
    },
    {
      "cell_type": "code",
      "source": [
        "Nombre = 'Leyton'\n",
        "Apellido = 'Pastrana'\n",
        "Altura = 1.75\n",
        "Edad = 17\n",
        "print(\"Mi nombre es {} y mi edad es: {}\".format(Nombre,Edad))"
      ],
      "metadata": {
        "colab": {
          "base_uri": "https://localhost:8080/"
        },
        "id": "5L3slE_k8DRc",
        "outputId": "97edcc4f-8f94-4198-9bd0-44fc0f1d8b7d"
      },
      "execution_count": null,
      "outputs": [
        {
          "output_type": "stream",
          "name": "stdout",
          "text": [
            "Mi nombre es Leyton y mi edad es: 17\n"
          ]
        }
      ]
    },
    {
      "cell_type": "code",
      "source": [
        "print(\"Mi nombre es %s, mi apellido es %s, mido %.2f , y mi edad es: %d\" % (Nombre,Apellido,Altura,Edad))"
      ],
      "metadata": {
        "colab": {
          "base_uri": "https://localhost:8080/"
        },
        "id": "D45Xci9i9cF7",
        "outputId": "5e81de34-c6e8-4fca-844b-6eaa0534ce4d"
      },
      "execution_count": null,
      "outputs": [
        {
          "output_type": "stream",
          "name": "stdout",
          "text": [
            "Mi nombre es Leyton, mi apellido es Pastrana, mido 1.75 , y mi edad es: 17\n"
          ]
        }
      ]
    },
    {
      "cell_type": "markdown",
      "source": [
        "#Caracteres de escape"
      ],
      "metadata": {
        "id": "6v7i03t3ALlu"
      }
    },
    {
      "cell_type": "code",
      "source": [
        "# usando el \\r\n",
        "print(\"me levante tarde hoy, \\r llegue tarde a la clase de algoritmos\")"
      ],
      "metadata": {
        "colab": {
          "base_uri": "https://localhost:8080/"
        },
        "id": "ijK_HATzAOdK",
        "outputId": "1909608e-0862-470b-af6f-f2388dca42f0"
      },
      "execution_count": null,
      "outputs": [
        {
          "output_type": "stream",
          "name": "stdout",
          "text": [
            "me levante tarde hoy, \r llegue tarde a la clase de algoritmos\n"
          ]
        }
      ]
    },
    {
      "cell_type": "code",
      "source": [
        "print(\"me levante tarde hoy, llegue \\\"tarde\\\" a la clase de algoritmos\")"
      ],
      "metadata": {
        "colab": {
          "base_uri": "https://localhost:8080/"
        },
        "id": "Pi9fCFhiB-96",
        "outputId": "5d33495e-1d18-410f-d3e2-dfe2d629dacf"
      },
      "execution_count": null,
      "outputs": [
        {
          "output_type": "stream",
          "name": "stdout",
          "text": [
            "me levante tarde hoy, llegue \"tarde\" a la clase de algoritmos\n"
          ]
        }
      ]
    },
    {
      "cell_type": "code",
      "source": [
        "print(\"leyton\\tandres\\tpastrana\\tibica\")"
      ],
      "metadata": {
        "colab": {
          "base_uri": "https://localhost:8080/"
        },
        "id": "udkneUyWEGSp",
        "outputId": "441137cb-c525-491d-9101-ef3ef45ae93c"
      },
      "execution_count": null,
      "outputs": [
        {
          "output_type": "stream",
          "name": "stdout",
          "text": [
            "leyton\tandres\tpastrana\tibica\n"
          ]
        }
      ]
    },
    {
      "cell_type": "code",
      "source": [
        "print('el semestre se acaba el 6 de junio.\\n toca hacer un asadito')"
      ],
      "metadata": {
        "colab": {
          "base_uri": "https://localhost:8080/"
        },
        "id": "scI4PiUEFdCF",
        "outputId": "5162f91d-43bd-4a34-e038-1907e750d0b1"
      },
      "execution_count": null,
      "outputs": [
        {
          "output_type": "stream",
          "name": "stdout",
          "text": [
            "el semestre se acaba el 6 de junio.\n",
            " toca hacer un asadito\n"
          ]
        }
      ]
    },
    {
      "cell_type": "code",
      "source": [
        "print('En términos de programación \\r, un algoritmo es una \\\"secuencia\\\" de pasos lógicos que permiten solucionar un problema. \\n Por ejemplo: si perdemos el \\tacceso a una cuenta nos dan una serie de pasos para poder identificarla y así recuperarla o borrarla, que desarrollándose de manera efectiva y lógica, lograrán un resultado determinado.')"
      ],
      "metadata": {
        "colab": {
          "base_uri": "https://localhost:8080/"
        },
        "id": "93-Ff5B-Gg0y",
        "outputId": "58d124d2-f253-4077-b3e9-8731367dfbb9"
      },
      "execution_count": null,
      "outputs": [
        {
          "output_type": "stream",
          "name": "stdout",
          "text": [
            "En términos de programación \r, un algoritmo es una \"secuencia\" de pasos lógicos que permiten solucionar un problema. \n",
            " Por ejemplo: si perdemos el \tacceso a una cuenta nos dan una serie de pasos para poder identificarla y así recuperarla o borrarla, que desarrollándose de manera efectiva y lógica, lograrán un resultado determinado.\n"
          ]
        }
      ]
    },
    {
      "cell_type": "markdown",
      "source": [
        "#operadores matematicos y variables enteras y flotantes"
      ],
      "metadata": {
        "id": "2N9a79P3ISiz"
      }
    },
    {
      "cell_type": "code",
      "source": [
        "num1 = 10\n",
        "num2 = 20\n",
        "suma = num1 + num2\n",
        "resta = num1 - num2\n",
        "multiplicacion = num1 * num2\n",
        "division = num1 / num2\n",
        "\n",
        "print(f\"el resultado de la suma entre: {num1} y {num2} es \\n {suma}, y el tipo de variable es: {type(suma)}\")\n",
        "print(f\"el resultado de la resta entre: {num1} y {num2} es \\n {resta}, y el tipo de variable es: {type(resta)}\")\n",
        "\n"
      ],
      "metadata": {
        "colab": {
          "base_uri": "https://localhost:8080/"
        },
        "id": "BkzyddunITU_",
        "outputId": "1754a04a-d0dc-4799-ddb6-a7d24c6bcc78"
      },
      "execution_count": null,
      "outputs": [
        {
          "output_type": "stream",
          "name": "stdout",
          "text": [
            "el resultado de la suma entre: 10 y 20 es \n",
            " 30, y el tipo de variable es: <class 'int'>\n",
            "el resultado de la resta entre: 10 y 20 es \n",
            " -10, y el tipo de variable es: <class 'int'>\n"
          ]
        }
      ]
    }
  ]
}