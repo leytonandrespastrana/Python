{
  "nbformat": 4,
  "nbformat_minor": 0,
  "metadata": {
    "colab": {
      "provenance": []
    },
    "kernelspec": {
      "name": "python3",
      "display_name": "Python 3"
    },
    "language_info": {
      "name": "python"
    }
  },
  "cells": [
    {
      "cell_type": "code",
      "execution_count": null,
      "metadata": {
        "id": "ZZTPG2ISLzWN"
      },
      "outputs": [],
      "source": []
    },
    {
      "cell_type": "code",
      "source": [
        "#Define una funcion llamada ordenamientoPorInsercion que recibe una lista (unalista) como parámetro:\n",
        "def ordenamientoPorInsercion(unaLista):\n",
        "  #un ciclo que recorre la lista desde el indice 1 hasta el final:\n",
        "  for indice in range(1, len(unaLista)):\n",
        "    #guarda el valor del elemento actual que queremos insertar en su lugar correcto:\n",
        "    valorActual = unaLista[indice]\n",
        "    #guarda la posicion actual, que puede ir cambiando si el valor necesita moverse hacia la izquierda:\n",
        "    posicion = indice\n",
        "\n",
        "    #este bucle while se encarga de mover los elementos mayores que valorActual una posición a la derecha, haciendo espacio\n",
        "    #para insertar valorActual en la posición correcta:\n",
        "    while posicion>0 and unaLista[posicion-1]>valorActual:\n",
        "      unaLista[posicion]=unaLista[posicion-1]\n",
        "      posicion = posicion-1\n",
        "\n",
        "    #una vez encontrado el lugar correcto, se inserta valorActual en la posición adecuada de una lista:\n",
        "    unaLista[posicion]=valorActual\n",
        "\n",
        "\n",
        "#aqui se crea una lista desordenada\n",
        "unaLista = [54, 26, 93, 17, 77, 31, 44, 55, 20]\n",
        "ordenamientoPorInsercion(unaLista)\n",
        "\n",
        "#se imprime el resultado\n",
        "print(unaLista)\n"
      ],
      "metadata": {
        "colab": {
          "base_uri": "https://localhost:8080/"
        },
        "id": "Z1440rzwL6M1",
        "outputId": "47ef50ec-37c4-439d-9078-3b9d12201504"
      },
      "execution_count": 1,
      "outputs": [
        {
          "output_type": "stream",
          "name": "stdout",
          "text": [
            "[17, 20, 26, 31, 44, 54, 55, 77, 93]\n"
          ]
        }
      ]
    },
    {
      "cell_type": "code",
      "source": [
        "# Define la función \"ordenamientoPorSeleccion\" que recibe como parámetro una lista \"unaLista\":\n",
        "def ordenamientoPorSeleccion(unaLista):\n",
        "    # Este ciclo recorre la lista desde el final hacia el principio,\n",
        "    # usando llenarRanura como el índice donde debe ir el siguiente mayor valor:\n",
        "    for llenarRanura in range(len(unaLista)-1, 0, -1):\n",
        "\n",
        "        # Se asume inicialmente que el mayor valor está en la posición 0:\n",
        "        posicionDelMayor = 0\n",
        "\n",
        "        # Este segundo ciclo for busca el valor más grande entre la posición 0 y \"llenarRanura\":\n",
        "        for ubicacion in range(1, llenarRanura+1):\n",
        "            if unaLista[ubicacion] > unaLista[posicionDelMayor]:\n",
        "                posicionDelMayor = ubicacion\n",
        "\n",
        "        # Este bloque intercambia el valor mayor encontrado con el valor en la posición final \"llenarRanura\":\n",
        "        temp = unaLista[llenarRanura]\n",
        "        unaLista[llenarRanura] = unaLista[posicionDelMayor]\n",
        "        unaLista[posicionDelMayor] = temp\n",
        "\n",
        "# Se crea una lista desordenada:\n",
        "unaLista = [54, 26, 93, 17, 77, 31, 44, 55, 20]\n",
        "\n",
        "# Se llama a la función para ordenar la lista:\n",
        "ordenamientoPorSeleccion(unaLista)\n",
        "\n",
        "# Se imprime el resultado:\n",
        "print(unaLista)\n"
      ],
      "metadata": {
        "colab": {
          "base_uri": "https://localhost:8080/"
        },
        "id": "rtP7hgSRZzPk",
        "outputId": "58848489-0d61-4466-a5ef-493318977c59"
      },
      "execution_count": 3,
      "outputs": [
        {
          "output_type": "stream",
          "name": "stdout",
          "text": [
            "[17, 20, 26, 31, 44, 54, 55, 77, 93]\n"
          ]
        }
      ]
    }
  ]
}