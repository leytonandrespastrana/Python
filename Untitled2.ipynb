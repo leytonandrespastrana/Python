{
  "nbformat": 4,
  "nbformat_minor": 0,
  "metadata": {
    "colab": {
      "provenance": []
    },
    "kernelspec": {
      "name": "python3",
      "display_name": "Python 3"
    },
    "language_info": {
      "name": "python"
    }
  },
  "cells": [
    {
      "cell_type": "code",
      "execution_count": null,
      "metadata": {
        "id": "0zSeiAH-pUlL"
      },
      "outputs": [],
      "source": [
        "A = 5\n",
        "a = \"cinco\"\n",
        "b = True\n",
        "c = 17,3\n",
        "B = (2,3,7) #inmutable , no cambia\n",
        "D = [\"Juan\", \"Carlos\"] #es modificable\n",
        "E  = {\"SP\" : 7,}\n",
        "\n"
      ]
    },
    {
      "cell_type": "code",
      "source": [
        "print(B)"
      ],
      "metadata": {
        "colab": {
          "base_uri": "https://localhost:8080/"
        },
        "id": "dDqHh2GOpsQ0",
        "outputId": "1a533037-6e9e-448f-e817-cf2c151447aa"
      },
      "execution_count": null,
      "outputs": [
        {
          "output_type": "stream",
          "name": "stdout",
          "text": [
            "(2, 3, 7)\n"
          ]
        }
      ]
    },
    {
      "cell_type": "code",
      "source": [
        "type(B)"
      ],
      "metadata": {
        "colab": {
          "base_uri": "https://localhost:8080/"
        },
        "id": "icLKIYtyqfBj",
        "outputId": "8b120799-e2c0-4e28-9bd6-921e8ad63a11"
      },
      "execution_count": null,
      "outputs": [
        {
          "output_type": "execute_result",
          "data": {
            "text/plain": [
              "tuple"
            ]
          },
          "metadata": {},
          "execution_count": 8
        }
      ]
    },
    {
      "cell_type": "code",
      "source": [
        "print (\"la variable es \", type(12))\n",
        "print (\"la variable es \", type(13.3))\n",
        "print (\"la variable es \", type(True))\n",
        "print (\"la variable es \", type('67'))\n"
      ],
      "metadata": {
        "colab": {
          "base_uri": "https://localhost:8080/"
        },
        "id": "0J1xOXUm177Q",
        "outputId": "3c34c934-aef8-4cc8-8fa1-8a4f92251676"
      },
      "execution_count": null,
      "outputs": [
        {
          "output_type": "stream",
          "name": "stdout",
          "text": [
            "la variable es  <class 'int'>\n",
            "la variable es  <class 'float'>\n",
            "la variable es  <class 'bool'>\n",
            "la variable es  <class 'str'>\n"
          ]
        }
      ]
    },
    {
      "cell_type": "markdown",
      "source": [
        "#Variables que almacenan multiples datos"
      ],
      "metadata": {
        "id": "cWjq2C8L4jYQ"
      }
    },
    {
      "cell_type": "code",
      "source": [
        "#creacion de una tupla\n",
        "No_modificable = (1,2,3,4)\n",
        "print(\"la variable es de tipo \" , type(No_modificable))"
      ],
      "metadata": {
        "colab": {
          "base_uri": "https://localhost:8080/"
        },
        "id": "iGESMjl94qKB",
        "outputId": "70eb8837-740e-4447-c4a3-d0255c0c4d97"
      },
      "execution_count": null,
      "outputs": [
        {
          "output_type": "stream",
          "name": "stdout",
          "text": [
            "la variable es de tipo  <class 'tuple'>\n"
          ]
        }
      ]
    },
    {
      "cell_type": "code",
      "source": [
        "#creacion de una lista\n",
        "lista = [12, 67]\n",
        "print(\"la variable es de tipo \" , type(lista))"
      ],
      "metadata": {
        "colab": {
          "base_uri": "https://localhost:8080/"
        },
        "id": "fxOCbRub5v5N",
        "outputId": "65a80501-9b42-44ef-a6f5-3765b3b12a54"
      },
      "execution_count": null,
      "outputs": [
        {
          "output_type": "stream",
          "name": "stdout",
          "text": [
            "la variable es de tipo  <class 'list'>\n"
          ]
        }
      ]
    },
    {
      "cell_type": "code",
      "source": [
        "#creacion de un diccionario\n",
        "diccionario = {\"pedro\": 67,\n",
        "               \"jose\" : 40,\n",
        "               \"juan\" : 30,\n",
        "               \"camilo\": 70,\n",
        "               \"ana\": 55,\n",
        "               \"julio\" : 22,\n",
        "               \"roman\" : 33,\n",
        "               \"pedrito\" : 66\n",
        "               }\n",
        "print(\"la variable es de tipo \" , type(diccionario))\n",
        "print(diccionario)"
      ],
      "metadata": {
        "colab": {
          "base_uri": "https://localhost:8080/"
        },
        "id": "TML3F9wL7EZe",
        "outputId": "59179ea1-6aa2-4488-fbad-d45ab32cb27a"
      },
      "execution_count": null,
      "outputs": [
        {
          "output_type": "stream",
          "name": "stdout",
          "text": [
            "la variable es de tipo  <class 'dict'>\n",
            "{'pedro': 67, 'jose': 40, 'juan': 30, 'camilo': 70, 'ana': 55, 'julio': 22, 'roman': 33, 'pedrito': 66}\n"
          ]
        }
      ]
    },
    {
      "cell_type": "markdown",
      "source": [
        "#DataSet\n"
      ],
      "metadata": {
        "id": "yghbUNpi-wos"
      }
    },
    {
      "cell_type": "code",
      "source": [
        "#dataset\n",
        "import pandas as pd #importar libreria panda\n",
        "datos = {\n",
        "    \"nombre\" : [\"pedro\", \"jose\", \"juan\", \"camilo\", \"ana\", \"julio\", \"roman\", \"uriel\"],\n",
        "    \"edad\"   : [67, 40, 30, 70, 55, 22, 33, 66],\n",
        "    \"ciudad\" : [\"cali\", \"cali\", \"cali\", \"cali\", \"Medellin\", \"Bogota\", \"Yopal\", \"Pereira\"],\n",
        "    \"altura\":[1.70,1.80,1.75,1.67,1.54,1.66,1.78,1.69],\n",
        "    \"identificacion\":[112524,134230,253494,299482,123456,283923,849283,289349],\n",
        "    \"deporte_fav\":[\"basket\",\"futbol\",\"basket\",\"futbol\",\"basket\",\"handball\",\"futbol\",\"voley\"],\n",
        "    \"trabajo\":[\"estudiante\",\"delivery\",\"estudiante\",\"Oficina\",\"doctor\",\"maestro\",\"estudiante\",\"programador\"]\n",
        "\n",
        "\n",
        "\n",
        "}\n",
        "#crear un dataframe\n",
        "tabla = pd.DataFrame(datos)\n",
        "\n",
        "#mostrar el tipo de la variable\n",
        "print(\"la variable es de tipo; \" , type(tabla))\n",
        "print(tabla)\n"
      ],
      "metadata": {
        "colab": {
          "base_uri": "https://localhost:8080/"
        },
        "id": "IEbegS6N-zMU",
        "outputId": "a3d09527-a21c-46fb-87a4-0315a4024db0"
      },
      "execution_count": null,
      "outputs": [
        {
          "output_type": "stream",
          "name": "stdout",
          "text": [
            "la variable es de tipo;  <class 'pandas.core.frame.DataFrame'>\n",
            "   nombre  edad    ciudad  altura  identificacion deporte_fav      trabajo\n",
            "0   pedro    67      cali    1.70          112524      basket   estudiante\n",
            "1    jose    40      cali    1.80          134230      futbol     delivery\n",
            "2    juan    30      cali    1.75          253494      basket   estudiante\n",
            "3  camilo    70      cali    1.67          299482      futbol      Oficina\n",
            "4     ana    55  Medellin    1.54          123456      basket       doctor\n",
            "5   julio    22    Bogota    1.66          283923    handball      maestro\n",
            "6   roman    33     Yopal    1.78          849283      futbol   estudiante\n",
            "7   uriel    66   Pereira    1.69          289349       voley  programador\n"
          ]
        }
      ]
    }
  ]
}